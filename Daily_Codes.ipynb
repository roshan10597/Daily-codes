{
  "nbformat": 4,
  "nbformat_minor": 0,
  "metadata": {
    "colab": {
      "name": "Daily-Codes.ipynb",
      "provenance": [],
      "collapsed_sections": [],
      "authorship_tag": "ABX9TyPln3BILRjO4yj3HXO+pGxr"
    },
    "kernelspec": {
      "name": "python3",
      "display_name": "Python 3"
    },
    "language_info": {
      "name": "python"
    }
  },
  "cells": [
    {
      "cell_type": "markdown",
      "metadata": {
        "id": "JG7tHqNH6Gww"
      },
      "source": [
        "Q. convert temperature from degree celcius to fahrenheit?"
      ]
    },
    {
      "cell_type": "code",
      "metadata": {
        "colab": {
          "base_uri": "https://localhost:8080/"
        },
        "id": "kByyGbxj6GKB",
        "outputId": "1f4f667a-40e2-42e4-bb89-e086f23ec694"
      },
      "source": [
        "celcius_temp=float(input(\"Enter value of temp in celcius: \"))\n",
        "feh_temp=(celcius_temp*1.8)+32\n",
        "print(f\"fehrenheit temp of {celcius_temp} is {feh_temp}\")\n",
        "# OR\n",
        "# print(\"feh temp of {0} is {1}\".format(celcius_temp,feh_temp))\n"
      ],
      "execution_count": null,
      "outputs": [
        {
          "output_type": "stream",
          "text": [
            "Enter value of temp in celcius: 50\n",
            "fehrenheit temp of 50.0 is 122.0\n"
          ],
          "name": "stdout"
        }
      ]
    },
    {
      "cell_type": "markdown",
      "metadata": {
        "id": "C5SRD550JiPW"
      },
      "source": [
        "Q. Given 2 sets of integers,print their symmetric difference in ascending order. The term symmetric difference indicates those values that exist in either  or  but do not exist in both.Give the symmetric diffrence."
      ]
    },
    {
      "cell_type": "code",
      "metadata": {
        "colab": {
          "base_uri": "https://localhost:8080/"
        },
        "id": "GdEmjd-tIQEq",
        "outputId": "2a14f6cf-bfe9-4b1f-f10b-c70934200647"
      },
      "source": [
        "a,alist=(int(input()),input().split())      # a indicate the length of the alist\n",
        "b,blist=(int(input()),input().split())      # b indicate the length of the blist\n",
        "x=set(alist)                                # Convert list into set  \n",
        "y=set(blist)                                # Convert list into set\n",
        "p=y.difference(x)                           \n",
        "q=x.difference(y)\n",
        "r=p.union(q)                                # Merge the elements of both sets p and q\n",
        "print ('\\n'.join(sorted(r, key=int)))       # Print the union set in ascending order"
      ],
      "execution_count": null,
      "outputs": [
        {
          "output_type": "stream",
          "text": [
            "4\n",
            "1 2 3 4 \n",
            "4\n",
            "1 2 5 6 \n",
            "3\n",
            "4\n",
            "5\n",
            "6\n"
          ],
          "name": "stdout"
        }
      ]
    },
    {
      "cell_type": "markdown",
      "metadata": {
        "id": "pGmGdYlM7TmF"
      },
      "source": [
        "Q. Given a year, determine whether it is a leap year. If it is a leap year, return the Boolean True, otherwise return False.\n",
        "\n",
        "Note that the code stub provided reads from STDIN and passes arguments to the is_leap function. It is only necessary to complete the is_leap function.\n",
        "\n",
        "constraint:\n",
        "1900<=year<=10E5"
      ]
    },
    {
      "cell_type": "code",
      "metadata": {
        "colab": {
          "base_uri": "https://localhost:8080/"
        },
        "id": "GGUbOk0U511k",
        "outputId": "b079291e-2501-40ab-dbb0-58f09b9959fa"
      },
      "source": [
        "def is_leap(year):\n",
        "    if 1900<=year<=10E5:\n",
        "      if year%4==0 and year%400==0:\n",
        "          return True\n",
        "      elif year%4==0 and year%100==0:\n",
        "          return False\n",
        "      elif year%4==0:\n",
        "          return True\n",
        "      else:\n",
        "          return False\n",
        "    else:\n",
        "      return None\n",
        "\n",
        "year = int(input())\n",
        "print(is_leap(year))"
      ],
      "execution_count": null,
      "outputs": [
        {
          "output_type": "stream",
          "text": [
            "2100\n",
            "False\n"
          ],
          "name": "stdout"
        }
      ]
    },
    {
      "cell_type": "markdown",
      "metadata": {
        "id": "6_OUXC6INyFY"
      },
      "source": [
        "Q.Swap the values of variables"
      ]
    },
    {
      "cell_type": "code",
      "metadata": {
        "colab": {
          "base_uri": "https://localhost:8080/"
        },
        "id": "EKEhx1RRN3oB",
        "outputId": "ee0c292a-c4d9-459f-a398-ca1a9b2f06fb"
      },
      "source": [
        "# first way(NAIVE APPROACH)\n",
        "# We can use these approach for both string and numeric data\n",
        "\n",
        "x=10\n",
        "y=20\n",
        "temp=x\n",
        "x=y\n",
        "y=temp\n",
        "print(\"Swap value of X: \",x)\n",
        "print(\"Swap value of y: \",y)"
      ],
      "execution_count": null,
      "outputs": [
        {
          "output_type": "stream",
          "text": [
            "Swap value of X:  20\n",
            "Swap value of y:  10\n"
          ],
          "name": "stdout"
        }
      ]
    },
    {
      "cell_type": "code",
      "metadata": {
        "colab": {
          "base_uri": "https://localhost:8080/"
        },
        "id": "lAxQZT6LOSCu",
        "outputId": "ca96b627-d0c9-4593-f067-9112fbf4089c"
      },
      "source": [
        "# Second way(COMMA APPROACH)\n",
        "# We can use these approach for both string and numeric data\n",
        "\n",
        "x=10\n",
        "y=20\n",
        "x,y=y,x\n",
        "print(\"Swap value of X: \",x)\n",
        "print(\"Swap value of y: \",y)"
      ],
      "execution_count": null,
      "outputs": [
        {
          "output_type": "stream",
          "text": [
            "Swap value of X:  20\n",
            "Swap value of y:  10\n"
          ],
          "name": "stdout"
        }
      ]
    },
    {
      "cell_type": "code",
      "metadata": {
        "colab": {
          "base_uri": "https://localhost:8080/"
        },
        "id": "Rmq3zHmaOdE1",
        "outputId": "ac55f5b1-b57e-4ca0-fac6-04f55d5dbbb1"
      },
      "source": [
        "# Third way(XOR APPROACH)\n",
        "# We can only use this approach for the numerical data\n",
        "\n",
        "x=10\n",
        "y=20\n",
        "x=x^y\n",
        "y=x^y\n",
        "x=x^y\n",
        "print(\"Swap value of X: \",x)\n",
        "print(\"Swap value of y: \",y)"
      ],
      "execution_count": null,
      "outputs": [
        {
          "output_type": "stream",
          "text": [
            "Swap value of X:  20\n",
            "Swap value of y:  10\n"
          ],
          "name": "stdout"
        }
      ]
    },
    {
      "cell_type": "code",
      "metadata": {
        "colab": {
          "base_uri": "https://localhost:8080/"
        },
        "id": "pBXnI5-jOw__",
        "outputId": "f8fb16e3-9068-4f27-8249-0f1f1c06151a"
      },
      "source": [
        "# Fourth way(ARITHMATIC APPROACH)\n",
        "# We can only use this approach for the numerical data\n",
        "\n",
        "x=10\n",
        "y=20\n",
        "x=x+y\n",
        "y=x-y\n",
        "x=x-y\n",
        "print(\"Swap value of X: \",x)\n",
        "print(\"Swap value of y: \",y)"
      ],
      "execution_count": null,
      "outputs": [
        {
          "output_type": "stream",
          "text": [
            "Swap value of X:  20\n",
            "Swap value of y:  10\n"
          ],
          "name": "stdout"
        }
      ]
    },
    {
      "cell_type": "markdown",
      "metadata": {
        "id": "R8HbxbjjO-KC"
      },
      "source": [
        "Q. Check whether given number is Prime number or not?"
      ]
    },
    {
      "cell_type": "code",
      "metadata": {
        "colab": {
          "base_uri": "https://localhost:8080/"
        },
        "id": "GdRMwCMcQwR3",
        "outputId": "e7120fc3-85e8-4dce-edc8-e83743618900"
      },
      "source": [
        "# Program to check if a number is prime or not\n",
        "\n",
        "\n",
        "# To take input from the user\n",
        "num = int(input(\"Enter a number: \"))\n",
        "\n",
        "# prime numbers are greater than 1\n",
        "if num > 1:\n",
        "   # check for factors\n",
        "   for i in range(2,num):\n",
        "       if (num % i) == 0:\n",
        "           print(num,\"is not a prime number\")\n",
        "           print(i,\"times\",num//i,\"is\",num)\n",
        "           break\n",
        "   else:\n",
        "       print(num,\"is a prime number\")\n",
        "       \n",
        "# if input number is less than\n",
        "# or equal to 1, it is not prime\n",
        "else:\n",
        "   print(num,\"is not a prime number\")"
      ],
      "execution_count": null,
      "outputs": [
        {
          "output_type": "stream",
          "text": [
            "Enter a number: 41\n",
            "41 is a prime number\n"
          ],
          "name": "stdout"
        }
      ]
    },
    {
      "cell_type": "markdown",
      "metadata": {
        "id": "D70hP6WgxthS"
      },
      "source": [
        "Q. Print the pyramid?"
      ]
    },
    {
      "cell_type": "code",
      "metadata": {
        "colab": {
          "base_uri": "https://localhost:8080/"
        },
        "id": "gVk0CnTTxsyF",
        "outputId": "2a2e4881-5fa4-4239-b821-fb900844f608"
      },
      "source": [
        "# Function to print pyramid\n",
        "rows = int(input(\"Enter number of rows: \"))\n",
        "\n",
        "k = 0\n",
        "\n",
        "for i in range(1, rows+1):\n",
        "    for space in range(1, (rows-i)+1):\n",
        "        print(end=\"  \")\n",
        "   \n",
        "    while k!=(2*i-1):\n",
        "        print(\"* \", end=\"\")\n",
        "        k += 1\n",
        "   \n",
        "    k = 0\n",
        "    print()"
      ],
      "execution_count": null,
      "outputs": [
        {
          "output_type": "stream",
          "text": [
            "Enter number of rows: 5\n",
            "        * \n",
            "      * * * \n",
            "    * * * * * \n",
            "  * * * * * * * \n",
            "* * * * * * * * * \n"
          ],
          "name": "stdout"
        }
      ]
    },
    {
      "cell_type": "code",
      "metadata": {
        "colab": {
          "base_uri": "https://localhost:8080/"
        },
        "id": "gSE4HqFNzMvD",
        "outputId": "a864907b-d946-4de7-fe0c-9631401487c0"
      },
      "source": [
        "# Function to print pyramid\n",
        "def Pyramid(n):\n",
        "\t\n",
        "\t# number of spaces\n",
        "\tk = n - 1\n",
        "\n",
        "\t# outer loop to handle number of rows\n",
        "\tfor i in range(0, n):\n",
        "\t\n",
        "\t\t# inner loop to handle number spaces\n",
        "\t\t# values changing acc. to requirement\n",
        "\t\tfor j in range(0, k):\n",
        "\t\t\tprint(end=\" \")\n",
        "\t\n",
        "\t\t# decrementing k after each loop\n",
        "\t\tk = k - 1\n",
        "\t\n",
        "\t\t# inner loop to handle number of columns\n",
        "\t\t# values changing acc. to outer loop\n",
        "\t\tfor j in range(0, i+1):\n",
        "\t\t\n",
        "\t\t\t# printing stars\n",
        "\t\t\tprint(\"* \", end=\"\")\n",
        "\t\n",
        "\t\t# ending line after each row\n",
        "\t\tprint(\"\\r\")\n",
        "\n",
        "n=int(input(\"Enter the number of rows: \"))\n",
        "triangle(n)\n"
      ],
      "execution_count": null,
      "outputs": [
        {
          "output_type": "stream",
          "text": [
            "Enter the number of rows: 5\n",
            "    * \n",
            "   * * \n",
            "  * * * \n",
            " * * * * \n",
            "* * * * * \n"
          ],
          "name": "stdout"
        }
      ]
    },
    {
      "cell_type": "markdown",
      "metadata": {
        "id": "7WoZYOJHoWXr"
      },
      "source": [
        "Q.Python Program to Find the Largest Among Three Numbers?"
      ]
    },
    {
      "cell_type": "code",
      "metadata": {
        "colab": {
          "base_uri": "https://localhost:8080/"
        },
        "id": "Rn4tfHQfoW4E",
        "outputId": "0fb5b7ff-d338-46af-923a-8dc6bca8a866"
      },
      "source": [
        "# change the values of num1, num2 and num3\n",
        "# for a different result\n",
        "num1 = 43\n",
        "num2 = 98\n",
        "num3 = 15\n",
        "\n",
        "# uncomment below lines to take three numbers from user\n",
        "#num1 = float(input(\"Enter first number: \"))\n",
        "#num2 = float(input(\"Enter second number: \"))\n",
        "#num3 = float(input(\"Enter third number: \"))\n",
        "\n",
        "if (num1 >= num2) and (num1 >= num3):\n",
        "   largest = num1\n",
        "elif (num2 >= num1) and (num2 >= num3):\n",
        "   largest = num2\n",
        "else:\n",
        "   largest = num3\n",
        "\n",
        "print(\"The largest number is\", largest)\n"
      ],
      "execution_count": null,
      "outputs": [
        {
          "output_type": "stream",
          "text": [
            "The largest number is 98\n"
          ],
          "name": "stdout"
        }
      ]
    },
    {
      "cell_type": "markdown",
      "metadata": {
        "id": "1ZwMlJ5Cu8F7"
      },
      "source": [
        "\n",
        "\n",
        "Q.Write a function which takes the excel column name as an input and returns the corresponding column number. A few examples are :\n",
        "\n",
        "* column name = <code>'J'</code> , column number = <code>10</code>\n",
        "* column name = <code>'AP'</code> , column number = <code>42</code>\n",
        "* column name = <code>'AAA'</code>, column number = <code>703</code>\n"
      ]
    },
    {
      "cell_type": "code",
      "metadata": {
        "id": "2T2VPYFUq4tq"
      },
      "source": [
        "def get_excel_column_number(column_name):\n",
        "  '''\n",
        "  This functions returns the corresponding column number for an excel column name\n",
        "  '''\n",
        "  # Get the dictionary mapping\n",
        "\n",
        "  list_of_nums = list(range(1,27,1))\n",
        "  alphabets = 'abcdefghijklmnopqrstuvwxyz'\n",
        "  alphabet_list = [char.upper() for char in alphabets]\n",
        "  \n",
        "  # Zip them together\n",
        "  alphabet_num_dict = dict(zip(alphabet_list,list_of_nums))\n",
        "\n",
        "  # Starting from the righmost character of the column name, keep adding the column number\n",
        "  multiplier = 1\n",
        "  colNum = 0\n",
        "  for letter in column_name[::-1]:\n",
        "    letter\n",
        "    colNum = colNum + alphabet_num_dict[letter]* multiplier\n",
        "    multiplier = multiplier * 26\n",
        "    multiplier\n",
        "  return colNum"
      ],
      "execution_count": null,
      "outputs": []
    },
    {
      "cell_type": "code",
      "metadata": {
        "id": "cxa37aZfvUAG",
        "colab": {
          "base_uri": "https://localhost:8080/"
        },
        "outputId": "9efb2c9d-ee21-4d10-9374-3c776e757cf7"
      },
      "source": [
        "# Check\n",
        "get_excel_column_number('JAA')"
      ],
      "execution_count": null,
      "outputs": [
        {
          "output_type": "execute_result",
          "data": {
            "text/plain": [
              "6787"
            ]
          },
          "metadata": {
            "tags": []
          },
          "execution_count": 3
        }
      ]
    },
    {
      "cell_type": "markdown",
      "metadata": {
        "id": "DXqNCYRGAXdk"
      },
      "source": [
        "Q. String split and join?"
      ]
    },
    {
      "cell_type": "code",
      "metadata": {
        "colab": {
          "base_uri": "https://localhost:8080/"
        },
        "id": "G4TXn76x-FNO",
        "outputId": "8470fc7d-074c-47ee-bb41-d4f3c103200f"
      },
      "source": [
        "string=input(\"\")\n",
        "\n",
        "def Split_Join(sentence):\n",
        "  str_split=sentence.split()\n",
        "  separator = '-'\n",
        "  return print(separator.join(str_split))\n",
        "  \n",
        "x=Split_Join(string)"
      ],
      "execution_count": null,
      "outputs": [
        {
          "output_type": "stream",
          "text": [
            "i am roshan\n",
            "i-am-roshan\n"
          ],
          "name": "stdout"
        }
      ]
    },
    {
      "cell_type": "markdown",
      "metadata": {
        "id": "77dVdpMbJqRr"
      },
      "source": [
        "Q.We have seen that lists are mutable (they can be changed), and tuples are immutable (they cannot be changed).\n",
        "\n",
        "Let's try to understand this with an example.\n",
        "\n",
        "You are given an immutable string, and you want to make changes to it."
      ]
    },
    {
      "cell_type": "code",
      "metadata": {
        "colab": {
          "base_uri": "https://localhost:8080/"
        },
        "id": "bdBAOWmoBgo7",
        "outputId": "02d3194b-9270-4083-840d-6d829da44307"
      },
      "source": [
        "#Way 1 \n",
        "string=input(\"\")\n",
        "alter_letter=input(\"\")\n",
        "position=int(input(\"\"))\n",
        "\n",
        "def Alter(x,y,z):\n",
        "  string=x[:z]+y+x[(z+1):]\n",
        "  return print(string)\n",
        "\n",
        "a=Alter(string,alter_letter,position)"
      ],
      "execution_count": null,
      "outputs": [
        {
          "output_type": "stream",
          "text": [
            "abcdefghijkl\n",
            "z\n",
            "5\n",
            "abcdezghijkl\n"
          ],
          "name": "stdout"
        }
      ]
    },
    {
      "cell_type": "code",
      "metadata": {
        "colab": {
          "base_uri": "https://localhost:8080/"
        },
        "id": "5vlPjKNzJNhe",
        "outputId": "0b3f1064-524f-435f-f9da-c45e4d8eb1e4"
      },
      "source": [
        "#Way 2 \n",
        "def mutate_string(string, position, character):\n",
        "    string=string[:position]+character+string[(position+1):]\n",
        "    return string\n",
        "\n",
        "if __name__ == '__main__':\n",
        "    s = input()\n",
        "    i, c = input().split()\n",
        "    s_new = mutate_string(s, int(i), c)\n",
        "    print(s_new)"
      ],
      "execution_count": null,
      "outputs": [
        {
          "output_type": "stream",
          "text": [
            "abcdefghijklmn\n",
            "5 z\n",
            "abcdezghijklmn\n"
          ],
          "name": "stdout"
        }
      ]
    },
    {
      "cell_type": "markdown",
      "metadata": {
        "id": "AYN2RlGcVvHu"
      },
      "source": [
        "Q.find the percentage?\n",
        "The first line contains the integer n , the number of students' records. The next n lines contain the names and marks obtained by a student, each value separated by a space. The final line contains query_name, the name of a student to query.\n",
        "percentage of the marks is need to be the output"
      ]
    },
    {
      "cell_type": "code",
      "metadata": {
        "colab": {
          "base_uri": "https://localhost:8080/"
        },
        "id": "1GchrSZVUsql",
        "outputId": "564947e9-4026-4bef-e21e-6cda2b8fbfb6"
      },
      "source": [
        "from decimal import Decimal\n",
        "if __name__ == '__main__':\n",
        "    n = int(input())\n",
        "    student_marks = {}\n",
        "    for _ in range(n):\n",
        "        name, *line = input().split()\n",
        "        scores = list(map(float, line))\n",
        "        student_marks[name] = scores\n",
        "    query_name = input()\n",
        "\n",
        "\n",
        "# Extract the values into a list: query_scores\n",
        "query_scores = student_marks[query_name]\n",
        "\n",
        "# Sum the scores in the list: total_scores\n",
        "total_scores = sum(query_scores)\n",
        "\n",
        "# Convert the floats to decimals and average the scores: avg\n",
        "avg = Decimal(total_scores/3)\n",
        "\n",
        "# Print the mean of the scores, correct to two decimals\n",
        "print(round(avg,2))"
      ],
      "execution_count": null,
      "outputs": [
        {
          "output_type": "stream",
          "text": [
            "2\n",
            "roshan 23 45 65\n",
            "shubh 45 78 95\n",
            "shubh\n",
            "72.67\n"
          ],
          "name": "stdout"
        }
      ]
    },
    {
      "cell_type": "markdown",
      "metadata": {
        "id": "TCQUf2PGpBGk"
      },
      "source": [
        "Q.\n",
        "\n",
        "#Sample Input 0\n",
        "\n",
        "ABCDEFGHIJKLIMNOQRSTUVWXYZ\n",
        "\n",
        "\n",
        "4\n",
        "\n",
        "\n",
        "#Sample Output 0\n",
        "\n",
        "ABCD\n",
        "EFGH\n",
        "IJKL\n",
        "IMNO\n",
        "QRST\n",
        "UVWX\n",
        "YZ"
      ]
    },
    {
      "cell_type": "code",
      "metadata": {
        "colab": {
          "base_uri": "https://localhost:8080/"
        },
        "id": "Y3r-p9r4o0hk",
        "outputId": "96df3ce0-2571-4c8b-efa4-67223783914b"
      },
      "source": [
        "def wrap(string, max_width):\n",
        "    return \"\\n\".join([string[i:i+max_width] for i in range(0, len(string), max_width)])\n",
        "\n",
        "if __name__ == '__main__':\n",
        "    string, max_width = input(), int(input())\n",
        "    result = wrap(string, max_width)\n",
        "    print(result)"
      ],
      "execution_count": 18,
      "outputs": [
        {
          "output_type": "stream",
          "text": [
            "evrbyrbTBYN\n",
            "4\n",
            "evrb\n",
            "yrbT\n",
            "BYN\n"
          ],
          "name": "stdout"
        }
      ]
    }
  ]
}