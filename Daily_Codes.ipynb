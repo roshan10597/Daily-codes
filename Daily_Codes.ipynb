{
  "nbformat": 4,
  "nbformat_minor": 0,
  "metadata": {
    "colab": {
      "name": "Daily-Codes.ipynb",
      "provenance": [],
      "authorship_tag": "ABX9TyMRU9Bu8CUEy844FzC7HO9G",
      "include_colab_link": true
    },
    "kernelspec": {
      "name": "python3",
      "display_name": "Python 3"
    },
    "language_info": {
      "name": "python"
    }
  },
  "cells": [
    {
      "cell_type": "markdown",
      "metadata": {
        "id": "view-in-github",
        "colab_type": "text"
      },
      "source": [
        "<a href=\"https://colab.research.google.com/github/roshan10597/Daily-codes/blob/main/Daily_Codes.ipynb\" target=\"_parent\"><img src=\"https://colab.research.google.com/assets/colab-badge.svg\" alt=\"Open In Colab\"/></a>"
      ]
    },
    {
      "cell_type": "markdown",
      "metadata": {
        "id": "JG7tHqNH6Gww"
      },
      "source": [
        "Q. convert temperature from degree celcius to fahrenheit?"
      ]
    },
    {
      "cell_type": "code",
      "metadata": {
        "colab": {
          "base_uri": "https://localhost:8080/"
        },
        "id": "kByyGbxj6GKB",
        "outputId": "1f4f667a-40e2-42e4-bb89-e086f23ec694"
      },
      "source": [
        "celcius_temp=float(input(\"Enter value of temp in celcius: \"))\n",
        "feh_temp=(celcius_temp*1.8)+32\n",
        "print(f\"fehrenheit temp of {celcius_temp} is {feh_temp}\")\n",
        "# OR\n",
        "# print(\"feh temp of {0} is {1}\".format(celcius_temp,feh_temp))\n"
      ],
      "execution_count": null,
      "outputs": [
        {
          "output_type": "stream",
          "text": [
            "Enter value of temp in celcius: 50\n",
            "fehrenheit temp of 50.0 is 122.0\n"
          ],
          "name": "stdout"
        }
      ]
    }
  ]
}