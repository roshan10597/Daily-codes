{
  "nbformat": 4,
  "nbformat_minor": 0,
  "metadata": {
    "colab": {
      "name": "Daily-Codes.ipynb",
      "provenance": [],
      "collapsed_sections": [],
      "authorship_tag": "ABX9TyMX/hpnKfnY0pu0rL0gB3eo",
      "include_colab_link": true
    },
    "kernelspec": {
      "name": "python3",
      "display_name": "Python 3"
    },
    "language_info": {
      "name": "python"
    }
  },
  "cells": [
    {
      "cell_type": "markdown",
      "metadata": {
        "id": "view-in-github",
        "colab_type": "text"
      },
      "source": [
        "<a href=\"https://colab.research.google.com/github/roshan10597/Daily-codes/blob/main/Daily_Codes.ipynb\" target=\"_parent\"><img src=\"https://colab.research.google.com/assets/colab-badge.svg\" alt=\"Open In Colab\"/></a>"
      ]
    },
    {
      "cell_type": "markdown",
      "metadata": {
        "id": "JG7tHqNH6Gww"
      },
      "source": [
        "Q. convert temperature from degree celcius to fahrenheit?"
      ]
    },
    {
      "cell_type": "code",
      "metadata": {
        "colab": {
          "base_uri": "https://localhost:8080/"
        },
        "id": "kByyGbxj6GKB",
        "outputId": "1f4f667a-40e2-42e4-bb89-e086f23ec694"
      },
      "source": [
        "celcius_temp=float(input(\"Enter value of temp in celcius: \"))\n",
        "feh_temp=(celcius_temp*1.8)+32\n",
        "print(f\"fehrenheit temp of {celcius_temp} is {feh_temp}\")\n",
        "# OR\n",
        "# print(\"feh temp of {0} is {1}\".format(celcius_temp,feh_temp))\n"
      ],
      "execution_count": null,
      "outputs": [
        {
          "output_type": "stream",
          "text": [
            "Enter value of temp in celcius: 50\n",
            "fehrenheit temp of 50.0 is 122.0\n"
          ],
          "name": "stdout"
        }
      ]
    },
    {
      "cell_type": "markdown",
      "metadata": {
        "id": "C5SRD550JiPW"
      },
      "source": [
        "Q. Given 2 sets of integers,print their symmetric difference in ascending order. The term symmetric difference indicates those values that exist in either  or  but do not exist in both.Give the symmetric diffrence."
      ]
    },
    {
      "cell_type": "code",
      "metadata": {
        "colab": {
          "base_uri": "https://localhost:8080/"
        },
        "id": "GdEmjd-tIQEq",
        "outputId": "2a14f6cf-bfe9-4b1f-f10b-c70934200647"
      },
      "source": [
        "a,alist=(int(input()),input().split())      # a indicate the length of the alist\n",
        "b,blist=(int(input()),input().split())      # b indicate the length of the blist\n",
        "x=set(alist)                                # Convert list into set  \n",
        "y=set(blist)                                # Convert list into set\n",
        "p=y.difference(x)                           \n",
        "q=x.difference(y)\n",
        "r=p.union(q)                                # Merge the elements of both sets p and q\n",
        "print ('\\n'.join(sorted(r, key=int)))       # Print the union set in ascending order"
      ],
      "execution_count": null,
      "outputs": [
        {
          "output_type": "stream",
          "text": [
            "4\n",
            "1 2 3 4 \n",
            "4\n",
            "1 2 5 6 \n",
            "3\n",
            "4\n",
            "5\n",
            "6\n"
          ],
          "name": "stdout"
        }
      ]
    },
    {
      "cell_type": "markdown",
      "metadata": {
        "id": "pGmGdYlM7TmF"
      },
      "source": [
        "Q. Given a year, determine whether it is a leap year. If it is a leap year, return the Boolean True, otherwise return False.\n",
        "\n",
        "Note that the code stub provided reads from STDIN and passes arguments to the is_leap function. It is only necessary to complete the is_leap function.\n",
        "\n",
        "constraint:\n",
        "1900<=year<=10E5"
      ]
    },
    {
      "cell_type": "code",
      "metadata": {
        "colab": {
          "base_uri": "https://localhost:8080/"
        },
        "id": "GGUbOk0U511k",
        "outputId": "b079291e-2501-40ab-dbb0-58f09b9959fa"
      },
      "source": [
        "def is_leap(year):\n",
        "    if 1900<=year<=10E5:\n",
        "      if year%4==0 and year%400==0:\n",
        "          return True\n",
        "      elif year%4==0 and year%100==0:\n",
        "          return False\n",
        "      elif year%4==0:\n",
        "          return True\n",
        "      else:\n",
        "          return False\n",
        "    else:\n",
        "      return None\n",
        "\n",
        "year = int(input())\n",
        "print(is_leap(year))"
      ],
      "execution_count": null,
      "outputs": [
        {
          "output_type": "stream",
          "text": [
            "2100\n",
            "False\n"
          ],
          "name": "stdout"
        }
      ]
    },
    {
      "cell_type": "markdown",
      "metadata": {
        "id": "6_OUXC6INyFY"
      },
      "source": [
        "Q.Swap the values of variables"
      ]
    },
    {
      "cell_type": "code",
      "metadata": {
        "colab": {
          "base_uri": "https://localhost:8080/"
        },
        "id": "EKEhx1RRN3oB",
        "outputId": "ee0c292a-c4d9-459f-a398-ca1a9b2f06fb"
      },
      "source": [
        "# first way(NAIVE APPROACH)\n",
        "# We can use these approach for both string and numeric data\n",
        "\n",
        "x=10\n",
        "y=20\n",
        "temp=x\n",
        "x=y\n",
        "y=temp\n",
        "print(\"Swap value of X: \",x)\n",
        "print(\"Swap value of y: \",y)"
      ],
      "execution_count": null,
      "outputs": [
        {
          "output_type": "stream",
          "text": [
            "Swap value of X:  20\n",
            "Swap value of y:  10\n"
          ],
          "name": "stdout"
        }
      ]
    },
    {
      "cell_type": "code",
      "metadata": {
        "colab": {
          "base_uri": "https://localhost:8080/"
        },
        "id": "lAxQZT6LOSCu",
        "outputId": "ca96b627-d0c9-4593-f067-9112fbf4089c"
      },
      "source": [
        "# Second way(COMMA APPROACH)\n",
        "# We can use these approach for both string and numeric data\n",
        "\n",
        "x=10\n",
        "y=20\n",
        "x,y=y,x\n",
        "print(\"Swap value of X: \",x)\n",
        "print(\"Swap value of y: \",y)"
      ],
      "execution_count": null,
      "outputs": [
        {
          "output_type": "stream",
          "text": [
            "Swap value of X:  20\n",
            "Swap value of y:  10\n"
          ],
          "name": "stdout"
        }
      ]
    },
    {
      "cell_type": "code",
      "metadata": {
        "colab": {
          "base_uri": "https://localhost:8080/"
        },
        "id": "Rmq3zHmaOdE1",
        "outputId": "ac55f5b1-b57e-4ca0-fac6-04f55d5dbbb1"
      },
      "source": [
        "# Third way(XOR APPROACH)\n",
        "# We can only use this approach for the numerical data\n",
        "\n",
        "x=10\n",
        "y=20\n",
        "x=x^y\n",
        "y=x^y\n",
        "x=x^y\n",
        "print(\"Swap value of X: \",x)\n",
        "print(\"Swap value of y: \",y)"
      ],
      "execution_count": null,
      "outputs": [
        {
          "output_type": "stream",
          "text": [
            "Swap value of X:  20\n",
            "Swap value of y:  10\n"
          ],
          "name": "stdout"
        }
      ]
    },
    {
      "cell_type": "code",
      "metadata": {
        "colab": {
          "base_uri": "https://localhost:8080/"
        },
        "id": "pBXnI5-jOw__",
        "outputId": "f8fb16e3-9068-4f27-8249-0f1f1c06151a"
      },
      "source": [
        "# Fourth way(ARITHMATIC APPROACH)\n",
        "# We can only use this approach for the numerical data\n",
        "\n",
        "x=10\n",
        "y=20\n",
        "x=x+y\n",
        "y=x-y\n",
        "x=x-y\n",
        "print(\"Swap value of X: \",x)\n",
        "print(\"Swap value of y: \",y)"
      ],
      "execution_count": null,
      "outputs": [
        {
          "output_type": "stream",
          "text": [
            "Swap value of X:  20\n",
            "Swap value of y:  10\n"
          ],
          "name": "stdout"
        }
      ]
    }
  ]
}