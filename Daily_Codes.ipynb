{
  "nbformat": 4,
  "nbformat_minor": 0,
  "metadata": {
    "colab": {
      "name": "Daily-Codes.ipynb",
      "provenance": [],
      "collapsed_sections": [],
      "authorship_tag": "ABX9TyPZ5fxInoGipp05EDIZasQ8",
      "include_colab_link": true
    },
    "kernelspec": {
      "name": "python3",
      "display_name": "Python 3"
    },
    "language_info": {
      "name": "python"
    }
  },
  "cells": [
    {
      "cell_type": "markdown",
      "metadata": {
        "id": "view-in-github",
        "colab_type": "text"
      },
      "source": [
        "<a href=\"https://colab.research.google.com/github/roshan10597/Daily-codes/blob/main/Daily_Codes.ipynb\" target=\"_parent\"><img src=\"https://colab.research.google.com/assets/colab-badge.svg\" alt=\"Open In Colab\"/></a>"
      ]
    },
    {
      "cell_type": "markdown",
      "metadata": {
        "id": "JG7tHqNH6Gww"
      },
      "source": [
        "Q. convert temperature from degree celcius to fahrenheit?"
      ]
    },
    {
      "cell_type": "code",
      "metadata": {
        "colab": {
          "base_uri": "https://localhost:8080/"
        },
        "id": "kByyGbxj6GKB",
        "outputId": "1f4f667a-40e2-42e4-bb89-e086f23ec694"
      },
      "source": [
        "celcius_temp=float(input(\"Enter value of temp in celcius: \"))\n",
        "feh_temp=(celcius_temp*1.8)+32\n",
        "print(f\"fehrenheit temp of {celcius_temp} is {feh_temp}\")\n",
        "# OR\n",
        "# print(\"feh temp of {0} is {1}\".format(celcius_temp,feh_temp))\n"
      ],
      "execution_count": null,
      "outputs": [
        {
          "output_type": "stream",
          "text": [
            "Enter value of temp in celcius: 50\n",
            "fehrenheit temp of 50.0 is 122.0\n"
          ],
          "name": "stdout"
        }
      ]
    },
    {
      "cell_type": "markdown",
      "metadata": {
        "id": "C5SRD550JiPW"
      },
      "source": [
        "Q. Given 2 sets of integers,print their symmetric difference in ascending order. The term symmetric difference indicates those values that exist in either  or  but do not exist in both.Give the symmetric diffrence."
      ]
    },
    {
      "cell_type": "code",
      "metadata": {
        "colab": {
          "base_uri": "https://localhost:8080/"
        },
        "id": "GdEmjd-tIQEq",
        "outputId": "2a14f6cf-bfe9-4b1f-f10b-c70934200647"
      },
      "source": [
        "a,alist=(int(input()),input().split())      # a indicate the length of the alist\n",
        "b,blist=(int(input()),input().split())      # b indicate the length of the blist\n",
        "x=set(alist)                                # Convert list into set  \n",
        "y=set(blist)                                # Convert list into set\n",
        "p=y.difference(x)                           \n",
        "q=x.difference(y)\n",
        "r=p.union(q)                                # Merge the elements of both sets p and q\n",
        "print ('\\n'.join(sorted(r, key=int)))       # Print the union set in ascending order"
      ],
      "execution_count": null,
      "outputs": [
        {
          "output_type": "stream",
          "text": [
            "4\n",
            "1 2 3 4 \n",
            "4\n",
            "1 2 5 6 \n",
            "3\n",
            "4\n",
            "5\n",
            "6\n"
          ],
          "name": "stdout"
        }
      ]
    }
  ]
}